{
 "cells": [
  {
   "cell_type": "markdown",
   "id": "47b23687-43a0-4102-b8e4-c04405b5e1c9",
   "metadata": {},
   "source": [
    "For Completing this project I have been followed bellow steps:\n",
    "\n",
    "<ol>\n",
    "  <li>Raw Datasets Collected From <b><code>Kaggle</code></b></li>\n",
    "  <li>Import Necessary <b><code> Libraries </code></b></li>\n",
    "  <li> Loading Datasets Using <b><code>Pandas</code></b></li>\n",
    "  <li>Building an Optimal Model by Using <b><code> Machine Learning Algorithms</code></b></li>\n",
    "  <li>Evaluated my model</li>\n",
    "  <li>Create an Summary</li>\n",
    "</ol>\n"
   ]
  },
  {
   "cell_type": "code",
   "execution_count": 1,
   "id": "9e2674bf-1dbe-4ace-9627-8892473203e3",
   "metadata": {},
   "outputs": [],
   "source": [
    "import numpy as np\n",
    "import os\n",
    "import matplotlib.pyplot as plt\n",
    "import pandas as pd\n",
    "import warnings\n",
    "\n",
    "from sklearn.feature_extraction.text import TfidfVectorizer\n",
    "from sklearn.model_selection import train_test_split\n",
    "from sklearn.metrics import accuracy_score, classification_report\n",
    "from sklearn.naive_bayes import MultinomialNB\n",
    "\n",
    "import nltk\n",
    "import re # Regular Expression\n",
    "from nltk.corpus import stopwords\n",
    "from nltk.stem import WordNetLemmatizer\n",
    "\n",
    "\"\"\"\n",
    "Closed , Closer, Colsing --> Close [Steamming]\n",
    "Close --> Closed , Closer, Colsing [Lemmatisation]\n",
    "\n",
    "\"\"\"\n",
    "\n",
    "warnings.filterwarnings('ignore')\n",
    "%matplotlib inline"
   ]
  },
  {
   "cell_type": "markdown",
   "id": "34ed31a5-3631-4787-be1e-d8f6a561b654",
   "metadata": {},
   "source": [
    "<h4><p style=\"color:red;\"> Loading datasets using Pandas libraries</p></h4>"
   ]
  },
  {
   "cell_type": "code",
   "execution_count": 2,
   "id": "7f20bbcb-76e4-417c-ad36-d2ba005f68ee",
   "metadata": {},
   "outputs": [],
   "source": [
    "fakeDatasets = pd.read_csv(\"../Datasets/Fake.csv\")\n",
    "trueDatasets = pd.read_csv(\"../Datasets/True.csv\")"
   ]
  },
  {
   "cell_type": "markdown",
   "id": "56833407-82b5-44da-a87f-2d16e2917533",
   "metadata": {},
   "source": [
    "<b style=\"color:red;\"><h4> See 1st two row for Fake News Datasets </h4></b>"
   ]
  },
  {
   "cell_type": "code",
   "execution_count": 3,
   "id": "b4f9901c-340f-4305-9263-09a2cad6d844",
   "metadata": {},
   "outputs": [
    {
     "data": {
      "text/html": [
       "<div>\n",
       "<style scoped>\n",
       "    .dataframe tbody tr th:only-of-type {\n",
       "        vertical-align: middle;\n",
       "    }\n",
       "\n",
       "    .dataframe tbody tr th {\n",
       "        vertical-align: top;\n",
       "    }\n",
       "\n",
       "    .dataframe thead th {\n",
       "        text-align: right;\n",
       "    }\n",
       "</style>\n",
       "<table border=\"1\" class=\"dataframe\">\n",
       "  <thead>\n",
       "    <tr style=\"text-align: right;\">\n",
       "      <th></th>\n",
       "      <th>title</th>\n",
       "      <th>text</th>\n",
       "      <th>subject</th>\n",
       "      <th>date</th>\n",
       "    </tr>\n",
       "  </thead>\n",
       "  <tbody>\n",
       "    <tr>\n",
       "      <th>0</th>\n",
       "      <td>Donald Trump Sends Out Embarrassing New Year’...</td>\n",
       "      <td>Donald Trump just couldn t wish all Americans ...</td>\n",
       "      <td>News</td>\n",
       "      <td>December 31, 2017</td>\n",
       "    </tr>\n",
       "    <tr>\n",
       "      <th>1</th>\n",
       "      <td>Drunk Bragging Trump Staffer Started Russian ...</td>\n",
       "      <td>House Intelligence Committee Chairman Devin Nu...</td>\n",
       "      <td>News</td>\n",
       "      <td>December 31, 2017</td>\n",
       "    </tr>\n",
       "  </tbody>\n",
       "</table>\n",
       "</div>"
      ],
      "text/plain": [
       "                                               title  \\\n",
       "0   Donald Trump Sends Out Embarrassing New Year’...   \n",
       "1   Drunk Bragging Trump Staffer Started Russian ...   \n",
       "\n",
       "                                                text subject  \\\n",
       "0  Donald Trump just couldn t wish all Americans ...    News   \n",
       "1  House Intelligence Committee Chairman Devin Nu...    News   \n",
       "\n",
       "                date  \n",
       "0  December 31, 2017  \n",
       "1  December 31, 2017  "
      ]
     },
     "execution_count": 3,
     "metadata": {},
     "output_type": "execute_result"
    }
   ],
   "source": [
    "fakeDatasets.head(2)"
   ]
  },
  {
   "cell_type": "markdown",
   "id": "04cf6c33-a237-4ce6-8cf0-43d18a89ed16",
   "metadata": {},
   "source": [
    "<b style=\"color:red;\"><h4> See 1st Two row for True News Datasets </h4></b>"
   ]
  },
  {
   "cell_type": "code",
   "execution_count": 4,
   "id": "eaf17676-3488-4c05-a579-97abfb457d4c",
   "metadata": {},
   "outputs": [
    {
     "data": {
      "text/html": [
       "<div>\n",
       "<style scoped>\n",
       "    .dataframe tbody tr th:only-of-type {\n",
       "        vertical-align: middle;\n",
       "    }\n",
       "\n",
       "    .dataframe tbody tr th {\n",
       "        vertical-align: top;\n",
       "    }\n",
       "\n",
       "    .dataframe thead th {\n",
       "        text-align: right;\n",
       "    }\n",
       "</style>\n",
       "<table border=\"1\" class=\"dataframe\">\n",
       "  <thead>\n",
       "    <tr style=\"text-align: right;\">\n",
       "      <th></th>\n",
       "      <th>title</th>\n",
       "      <th>text</th>\n",
       "      <th>subject</th>\n",
       "      <th>date</th>\n",
       "    </tr>\n",
       "  </thead>\n",
       "  <tbody>\n",
       "    <tr>\n",
       "      <th>0</th>\n",
       "      <td>As U.S. budget fight looms, Republicans flip t...</td>\n",
       "      <td>WASHINGTON (Reuters) - The head of a conservat...</td>\n",
       "      <td>politicsNews</td>\n",
       "      <td>December 31, 2017</td>\n",
       "    </tr>\n",
       "    <tr>\n",
       "      <th>1</th>\n",
       "      <td>U.S. military to accept transgender recruits o...</td>\n",
       "      <td>WASHINGTON (Reuters) - Transgender people will...</td>\n",
       "      <td>politicsNews</td>\n",
       "      <td>December 29, 2017</td>\n",
       "    </tr>\n",
       "  </tbody>\n",
       "</table>\n",
       "</div>"
      ],
      "text/plain": [
       "                                               title  \\\n",
       "0  As U.S. budget fight looms, Republicans flip t...   \n",
       "1  U.S. military to accept transgender recruits o...   \n",
       "\n",
       "                                                text       subject  \\\n",
       "0  WASHINGTON (Reuters) - The head of a conservat...  politicsNews   \n",
       "1  WASHINGTON (Reuters) - Transgender people will...  politicsNews   \n",
       "\n",
       "                 date  \n",
       "0  December 31, 2017   \n",
       "1  December 29, 2017   "
      ]
     },
     "execution_count": 4,
     "metadata": {},
     "output_type": "execute_result"
    }
   ],
   "source": [
    "trueDatasets.head(2)"
   ]
  },
  {
   "cell_type": "markdown",
   "id": "7834e8c7-ca55-4773-9c64-fb5baf403ab5",
   "metadata": {},
   "source": [
    "<b style=\"color:red;\"><h4>Information of the Fake Datasets</h4></b>"
   ]
  },
  {
   "cell_type": "code",
   "execution_count": 5,
   "id": "288fbf15-8282-4d48-9d5d-a73dac5b482a",
   "metadata": {},
   "outputs": [
    {
     "name": "stdout",
     "output_type": "stream",
     "text": [
      "<class 'pandas.core.frame.DataFrame'>\n",
      "RangeIndex: 23481 entries, 0 to 23480\n",
      "Data columns (total 4 columns):\n",
      " #   Column   Non-Null Count  Dtype \n",
      "---  ------   --------------  ----- \n",
      " 0   title    23481 non-null  object\n",
      " 1   text     23481 non-null  object\n",
      " 2   subject  23481 non-null  object\n",
      " 3   date     23481 non-null  object\n",
      "dtypes: object(4)\n",
      "memory usage: 733.9+ KB\n"
     ]
    }
   ],
   "source": [
    "fakeDatasets.info()"
   ]
  },
  {
   "cell_type": "markdown",
   "id": "1fd224e5-bf67-455c-8126-3367585eb79f",
   "metadata": {},
   "source": [
    "<b style=\"color:red;\"><h4>Information of the True Datasets </h4></b>"
   ]
  },
  {
   "cell_type": "code",
   "execution_count": 6,
   "id": "fb3260bf-45bd-4629-b4c0-f8d98182711f",
   "metadata": {},
   "outputs": [
    {
     "name": "stdout",
     "output_type": "stream",
     "text": [
      "<class 'pandas.core.frame.DataFrame'>\n",
      "RangeIndex: 21417 entries, 0 to 21416\n",
      "Data columns (total 4 columns):\n",
      " #   Column   Non-Null Count  Dtype \n",
      "---  ------   --------------  ----- \n",
      " 0   title    21417 non-null  object\n",
      " 1   text     21417 non-null  object\n",
      " 2   subject  21417 non-null  object\n",
      " 3   date     21417 non-null  object\n",
      "dtypes: object(4)\n",
      "memory usage: 669.4+ KB\n"
     ]
    }
   ],
   "source": [
    "trueDatasets.info()"
   ]
  },
  {
   "cell_type": "markdown",
   "id": "f65e40ff-de2d-494e-a2eb-1dfb746abccb",
   "metadata": {},
   "source": [
    "<b style=\"color:red;\"><h4>Description of the Fake Datasets </h4></b>"
   ]
  },
  {
   "cell_type": "code",
   "execution_count": 7,
   "id": "ddef6536-564a-4931-b372-e2af6824cd31",
   "metadata": {},
   "outputs": [
    {
     "data": {
      "text/html": [
       "<div>\n",
       "<style scoped>\n",
       "    .dataframe tbody tr th:only-of-type {\n",
       "        vertical-align: middle;\n",
       "    }\n",
       "\n",
       "    .dataframe tbody tr th {\n",
       "        vertical-align: top;\n",
       "    }\n",
       "\n",
       "    .dataframe thead th {\n",
       "        text-align: right;\n",
       "    }\n",
       "</style>\n",
       "<table border=\"1\" class=\"dataframe\">\n",
       "  <thead>\n",
       "    <tr style=\"text-align: right;\">\n",
       "      <th></th>\n",
       "      <th>title</th>\n",
       "      <th>text</th>\n",
       "      <th>subject</th>\n",
       "      <th>date</th>\n",
       "    </tr>\n",
       "  </thead>\n",
       "  <tbody>\n",
       "    <tr>\n",
       "      <th>count</th>\n",
       "      <td>23481</td>\n",
       "      <td>23481</td>\n",
       "      <td>23481</td>\n",
       "      <td>23481</td>\n",
       "    </tr>\n",
       "    <tr>\n",
       "      <th>unique</th>\n",
       "      <td>17903</td>\n",
       "      <td>17455</td>\n",
       "      <td>6</td>\n",
       "      <td>1681</td>\n",
       "    </tr>\n",
       "    <tr>\n",
       "      <th>top</th>\n",
       "      <td>MEDIA IGNORES Time That Bill Clinton FIRED His...</td>\n",
       "      <td></td>\n",
       "      <td>News</td>\n",
       "      <td>May 10, 2017</td>\n",
       "    </tr>\n",
       "    <tr>\n",
       "      <th>freq</th>\n",
       "      <td>6</td>\n",
       "      <td>626</td>\n",
       "      <td>9050</td>\n",
       "      <td>46</td>\n",
       "    </tr>\n",
       "  </tbody>\n",
       "</table>\n",
       "</div>"
      ],
      "text/plain": [
       "                                                    title   text subject  \\\n",
       "count                                               23481  23481   23481   \n",
       "unique                                              17903  17455       6   \n",
       "top     MEDIA IGNORES Time That Bill Clinton FIRED His...           News   \n",
       "freq                                                    6    626    9050   \n",
       "\n",
       "                date  \n",
       "count          23481  \n",
       "unique          1681  \n",
       "top     May 10, 2017  \n",
       "freq              46  "
      ]
     },
     "execution_count": 7,
     "metadata": {},
     "output_type": "execute_result"
    }
   ],
   "source": [
    "fakeDatasets.describe()"
   ]
  },
  {
   "cell_type": "markdown",
   "id": "d319a8a2-7e8b-4f37-92a7-14ae012e537d",
   "metadata": {},
   "source": [
    "<b style=\"color:red;\"><h4>Description of the True Datasets</h4></b>"
   ]
  },
  {
   "cell_type": "code",
   "execution_count": 8,
   "id": "b8b41dbc-c563-4d08-83ad-f78018e5029e",
   "metadata": {},
   "outputs": [
    {
     "data": {
      "text/html": [
       "<div>\n",
       "<style scoped>\n",
       "    .dataframe tbody tr th:only-of-type {\n",
       "        vertical-align: middle;\n",
       "    }\n",
       "\n",
       "    .dataframe tbody tr th {\n",
       "        vertical-align: top;\n",
       "    }\n",
       "\n",
       "    .dataframe thead th {\n",
       "        text-align: right;\n",
       "    }\n",
       "</style>\n",
       "<table border=\"1\" class=\"dataframe\">\n",
       "  <thead>\n",
       "    <tr style=\"text-align: right;\">\n",
       "      <th></th>\n",
       "      <th>title</th>\n",
       "      <th>text</th>\n",
       "      <th>subject</th>\n",
       "      <th>date</th>\n",
       "    </tr>\n",
       "  </thead>\n",
       "  <tbody>\n",
       "    <tr>\n",
       "      <th>count</th>\n",
       "      <td>21417</td>\n",
       "      <td>21417</td>\n",
       "      <td>21417</td>\n",
       "      <td>21417</td>\n",
       "    </tr>\n",
       "    <tr>\n",
       "      <th>unique</th>\n",
       "      <td>20826</td>\n",
       "      <td>21192</td>\n",
       "      <td>2</td>\n",
       "      <td>716</td>\n",
       "    </tr>\n",
       "    <tr>\n",
       "      <th>top</th>\n",
       "      <td>Factbox: Trump fills top jobs for his administ...</td>\n",
       "      <td>(Reuters) - Highlights for U.S. President Dona...</td>\n",
       "      <td>politicsNews</td>\n",
       "      <td>December 20, 2017</td>\n",
       "    </tr>\n",
       "    <tr>\n",
       "      <th>freq</th>\n",
       "      <td>14</td>\n",
       "      <td>8</td>\n",
       "      <td>11272</td>\n",
       "      <td>182</td>\n",
       "    </tr>\n",
       "  </tbody>\n",
       "</table>\n",
       "</div>"
      ],
      "text/plain": [
       "                                                    title  \\\n",
       "count                                               21417   \n",
       "unique                                              20826   \n",
       "top     Factbox: Trump fills top jobs for his administ...   \n",
       "freq                                                   14   \n",
       "\n",
       "                                                     text       subject  \\\n",
       "count                                               21417         21417   \n",
       "unique                                              21192             2   \n",
       "top     (Reuters) - Highlights for U.S. President Dona...  politicsNews   \n",
       "freq                                                    8         11272   \n",
       "\n",
       "                      date  \n",
       "count                21417  \n",
       "unique                 716  \n",
       "top     December 20, 2017   \n",
       "freq                   182  "
      ]
     },
     "execution_count": 8,
     "metadata": {},
     "output_type": "execute_result"
    }
   ],
   "source": [
    "trueDatasets.describe()"
   ]
  },
  {
   "cell_type": "code",
   "execution_count": 9,
   "id": "340d736f-fe6a-42f1-b87f-b678d42479c3",
   "metadata": {},
   "outputs": [],
   "source": [
    "trueDatasets['target'] = 1\n",
    "fakeDatasets['target'] = 0"
   ]
  },
  {
   "cell_type": "markdown",
   "id": "a4114ac4-8bc1-4dfb-97b4-3d71d24dfc55",
   "metadata": {},
   "source": [
    "<b style=\"color:orange;\"><h4> Lets verify the True news columns values</h4></b>"
   ]
  },
  {
   "cell_type": "code",
   "execution_count": 10,
   "id": "98dfacf1-bda3-44bf-8576-b2d5dbed1d35",
   "metadata": {},
   "outputs": [
    {
     "data": {
      "text/html": [
       "<div>\n",
       "<style scoped>\n",
       "    .dataframe tbody tr th:only-of-type {\n",
       "        vertical-align: middle;\n",
       "    }\n",
       "\n",
       "    .dataframe tbody tr th {\n",
       "        vertical-align: top;\n",
       "    }\n",
       "\n",
       "    .dataframe thead th {\n",
       "        text-align: right;\n",
       "    }\n",
       "</style>\n",
       "<table border=\"1\" class=\"dataframe\">\n",
       "  <thead>\n",
       "    <tr style=\"text-align: right;\">\n",
       "      <th></th>\n",
       "      <th>title</th>\n",
       "      <th>text</th>\n",
       "      <th>subject</th>\n",
       "      <th>date</th>\n",
       "      <th>target</th>\n",
       "    </tr>\n",
       "  </thead>\n",
       "  <tbody>\n",
       "    <tr>\n",
       "      <th>0</th>\n",
       "      <td>As U.S. budget fight looms, Republicans flip t...</td>\n",
       "      <td>WASHINGTON (Reuters) - The head of a conservat...</td>\n",
       "      <td>politicsNews</td>\n",
       "      <td>December 31, 2017</td>\n",
       "      <td>1</td>\n",
       "    </tr>\n",
       "  </tbody>\n",
       "</table>\n",
       "</div>"
      ],
      "text/plain": [
       "                                               title  \\\n",
       "0  As U.S. budget fight looms, Republicans flip t...   \n",
       "\n",
       "                                                text       subject  \\\n",
       "0  WASHINGTON (Reuters) - The head of a conservat...  politicsNews   \n",
       "\n",
       "                 date  target  \n",
       "0  December 31, 2017        1  "
      ]
     },
     "execution_count": 10,
     "metadata": {},
     "output_type": "execute_result"
    }
   ],
   "source": [
    "trueDatasets.head(1)"
   ]
  },
  {
   "cell_type": "markdown",
   "id": "5fcff3cc-933d-4ca1-97d3-63be8e99c348",
   "metadata": {},
   "source": [
    "<b style=\"color:orange;\"><h4> Lets verify the Fake news columns values</h4></b>"
   ]
  },
  {
   "cell_type": "code",
   "execution_count": 11,
   "id": "d752770e-27cd-44a2-9dbb-5f4029a8fa09",
   "metadata": {},
   "outputs": [
    {
     "data": {
      "text/html": [
       "<div>\n",
       "<style scoped>\n",
       "    .dataframe tbody tr th:only-of-type {\n",
       "        vertical-align: middle;\n",
       "    }\n",
       "\n",
       "    .dataframe tbody tr th {\n",
       "        vertical-align: top;\n",
       "    }\n",
       "\n",
       "    .dataframe thead th {\n",
       "        text-align: right;\n",
       "    }\n",
       "</style>\n",
       "<table border=\"1\" class=\"dataframe\">\n",
       "  <thead>\n",
       "    <tr style=\"text-align: right;\">\n",
       "      <th></th>\n",
       "      <th>title</th>\n",
       "      <th>text</th>\n",
       "      <th>subject</th>\n",
       "      <th>date</th>\n",
       "      <th>target</th>\n",
       "    </tr>\n",
       "  </thead>\n",
       "  <tbody>\n",
       "    <tr>\n",
       "      <th>0</th>\n",
       "      <td>Donald Trump Sends Out Embarrassing New Year’...</td>\n",
       "      <td>Donald Trump just couldn t wish all Americans ...</td>\n",
       "      <td>News</td>\n",
       "      <td>December 31, 2017</td>\n",
       "      <td>0</td>\n",
       "    </tr>\n",
       "  </tbody>\n",
       "</table>\n",
       "</div>"
      ],
      "text/plain": [
       "                                               title  \\\n",
       "0   Donald Trump Sends Out Embarrassing New Year’...   \n",
       "\n",
       "                                                text subject  \\\n",
       "0  Donald Trump just couldn t wish all Americans ...    News   \n",
       "\n",
       "                date  target  \n",
       "0  December 31, 2017       0  "
      ]
     },
     "execution_count": 11,
     "metadata": {},
     "output_type": "execute_result"
    }
   ],
   "source": [
    "fakeDatasets.head(1)"
   ]
  },
  {
   "cell_type": "markdown",
   "id": "806b813d-624d-4a2d-89a6-53a5aebc9653",
   "metadata": {},
   "source": [
    "<b style=\"color:blue;\"><h4> See the individual Contributions of True News Subject</h4></b>"
   ]
  },
  {
   "cell_type": "code",
   "execution_count": 12,
   "id": "8e2c48c7-6fdb-4fa6-90f5-c9e07137cd1e",
   "metadata": {},
   "outputs": [
    {
     "data": {
      "text/plain": [
       "politicsNews    11272\n",
       "worldnews       10145\n",
       "Name: subject, dtype: int64"
      ]
     },
     "execution_count": 12,
     "metadata": {},
     "output_type": "execute_result"
    }
   ],
   "source": [
    "trueDatasets['subject'].value_counts()"
   ]
  },
  {
   "cell_type": "markdown",
   "id": "0f898ac1-3c4f-4468-92b8-dfb1ff809c75",
   "metadata": {},
   "source": [
    "<b style=\"color:blue;\"><h4> See the individual Contributions of Fake News Subject</h4></b>"
   ]
  },
  {
   "cell_type": "code",
   "execution_count": 13,
   "id": "dca1bb1f-dcd8-4f1f-bd40-c69bb5abd94a",
   "metadata": {},
   "outputs": [
    {
     "data": {
      "text/plain": [
       "News               9050\n",
       "politics           6841\n",
       "left-news          4459\n",
       "Government News    1570\n",
       "US_News             783\n",
       "Middle-east         778\n",
       "Name: subject, dtype: int64"
      ]
     },
     "execution_count": 13,
     "metadata": {},
     "output_type": "execute_result"
    }
   ],
   "source": [
    "fakeDatasets['subject'].value_counts()"
   ]
  },
  {
   "cell_type": "code",
   "execution_count": 14,
   "id": "cef92f4c-85ac-4cee-aa83-0a90f08ffd14",
   "metadata": {},
   "outputs": [],
   "source": [
    "fakeDatasets = fakeDatasets[['text', 'target']]\n",
    "trueDatasets = trueDatasets[['text', 'target']]"
   ]
  },
  {
   "cell_type": "code",
   "execution_count": 15,
   "id": "c2bcdf6c-e9b0-42b2-95eb-8ea32d423955",
   "metadata": {},
   "outputs": [
    {
     "data": {
      "text/html": [
       "<div>\n",
       "<style scoped>\n",
       "    .dataframe tbody tr th:only-of-type {\n",
       "        vertical-align: middle;\n",
       "    }\n",
       "\n",
       "    .dataframe tbody tr th {\n",
       "        vertical-align: top;\n",
       "    }\n",
       "\n",
       "    .dataframe thead th {\n",
       "        text-align: right;\n",
       "    }\n",
       "</style>\n",
       "<table border=\"1\" class=\"dataframe\">\n",
       "  <thead>\n",
       "    <tr style=\"text-align: right;\">\n",
       "      <th></th>\n",
       "      <th>text</th>\n",
       "      <th>target</th>\n",
       "    </tr>\n",
       "  </thead>\n",
       "  <tbody>\n",
       "    <tr>\n",
       "      <th>0</th>\n",
       "      <td>Donald Trump just couldn t wish all Americans ...</td>\n",
       "      <td>0</td>\n",
       "    </tr>\n",
       "  </tbody>\n",
       "</table>\n",
       "</div>"
      ],
      "text/plain": [
       "                                                text  target\n",
       "0  Donald Trump just couldn t wish all Americans ...       0"
      ]
     },
     "execution_count": 15,
     "metadata": {},
     "output_type": "execute_result"
    }
   ],
   "source": [
    "fakeDatasets.head(1)"
   ]
  },
  {
   "cell_type": "code",
   "execution_count": 16,
   "id": "b7d492c4-cae4-4a33-bfb0-5ed185db8cf3",
   "metadata": {},
   "outputs": [
    {
     "data": {
      "text/html": [
       "<div>\n",
       "<style scoped>\n",
       "    .dataframe tbody tr th:only-of-type {\n",
       "        vertical-align: middle;\n",
       "    }\n",
       "\n",
       "    .dataframe tbody tr th {\n",
       "        vertical-align: top;\n",
       "    }\n",
       "\n",
       "    .dataframe thead th {\n",
       "        text-align: right;\n",
       "    }\n",
       "</style>\n",
       "<table border=\"1\" class=\"dataframe\">\n",
       "  <thead>\n",
       "    <tr style=\"text-align: right;\">\n",
       "      <th></th>\n",
       "      <th>text</th>\n",
       "      <th>target</th>\n",
       "    </tr>\n",
       "  </thead>\n",
       "  <tbody>\n",
       "    <tr>\n",
       "      <th>0</th>\n",
       "      <td>WASHINGTON (Reuters) - The head of a conservat...</td>\n",
       "      <td>1</td>\n",
       "    </tr>\n",
       "  </tbody>\n",
       "</table>\n",
       "</div>"
      ],
      "text/plain": [
       "                                                text  target\n",
       "0  WASHINGTON (Reuters) - The head of a conservat...       1"
      ]
     },
     "execution_count": 16,
     "metadata": {},
     "output_type": "execute_result"
    }
   ],
   "source": [
    "trueDatasets.head(1)"
   ]
  },
  {
   "cell_type": "markdown",
   "id": "0fcc5368-8b8b-4c9c-9867-0bac17d9daa3",
   "metadata": {},
   "source": [
    "<b style=\"color:orange;\"><h4> Now We will concatenet our Both True Datasets and Fake Datasets </h4></b>"
   ]
  },
  {
   "cell_type": "code",
   "execution_count": 17,
   "id": "32476928-4547-4c54-afa6-a8b96b35d434",
   "metadata": {},
   "outputs": [],
   "source": [
    "datasets = pd.concat([trueDatasets, fakeDatasets])"
   ]
  },
  {
   "cell_type": "code",
   "execution_count": 18,
   "id": "a16c8f85-45fc-4980-bb42-8365cab9b658",
   "metadata": {},
   "outputs": [
    {
     "data": {
      "text/plain": [
       "0    23481\n",
       "1    21417\n",
       "Name: target, dtype: int64"
      ]
     },
     "execution_count": 18,
     "metadata": {},
     "output_type": "execute_result"
    }
   ],
   "source": [
    "datasets.target.value_counts()"
   ]
  },
  {
   "cell_type": "markdown",
   "id": "22b0f743-23fa-4155-bf03-0f1ed320ec62",
   "metadata": {},
   "source": [
    "<b style=\"color:orange;\"><h4> Check wheter There is any null value or not </h4></b>"
   ]
  },
  {
   "cell_type": "code",
   "execution_count": 19,
   "id": "ce75ec5f-6efe-4b03-b4e5-6a113b3f62ef",
   "metadata": {},
   "outputs": [
    {
     "data": {
      "text/plain": [
       "text      0\n",
       "target    0\n",
       "dtype: int64"
      ]
     },
     "execution_count": 19,
     "metadata": {},
     "output_type": "execute_result"
    }
   ],
   "source": [
    "datasets.isnull().sum()"
   ]
  },
  {
   "cell_type": "markdown",
   "id": "0a5161f5-09b4-4fe9-b277-2b1dacdcefe5",
   "metadata": {},
   "source": [
    "<b style=\"color:blue;\"><h4> Now we wil do sampling so that our marging datasets can be shuffled</h4></b>"
   ]
  },
  {
   "cell_type": "code",
   "execution_count": 20,
   "id": "64cda147-e12b-4a5b-8003-1251d41d94a9",
   "metadata": {},
   "outputs": [],
   "source": [
    "datasets = datasets.sample(frac=1)"
   ]
  },
  {
   "cell_type": "markdown",
   "id": "f4580d28-537b-4b9b-abdd-b845b97225e7",
   "metadata": {},
   "source": [
    "<b style=\"color:red;\"> Now we will use the Natural Language Processing Techniques for cleaing our text datasets so that our model can perform better</b>"
   ]
  },
  {
   "cell_type": "code",
   "execution_count": 21,
   "id": "d21d7142-c944-4bd7-8bba-f7786405986a",
   "metadata": {},
   "outputs": [],
   "source": [
    "lemmatizer = WordNetLemmatizer()\n",
    "stopword = stopwords.words('english')"
   ]
  },
  {
   "cell_type": "code",
   "execution_count": 22,
   "id": "d4260096-f6d2-4ca1-bdf1-60b5824bf81f",
   "metadata": {},
   "outputs": [
    {
     "data": {
      "text/plain": [
       "1    WASHINGTON (Reuters) - Transgender people will...\n",
       "1    House Intelligence Committee Chairman Devin Nu...\n",
       "Name: text, dtype: object"
      ]
     },
     "execution_count": 22,
     "metadata": {},
     "output_type": "execute_result"
    }
   ],
   "source": [
    "datasets['text'].loc[1]"
   ]
  },
  {
   "cell_type": "code",
   "execution_count": 23,
   "id": "ad5185c2-9ff3-4046-a2ac-0e38ea8bc8c4",
   "metadata": {},
   "outputs": [
    {
     "data": {
      "text/html": [
       "<div>\n",
       "<style scoped>\n",
       "    .dataframe tbody tr th:only-of-type {\n",
       "        vertical-align: middle;\n",
       "    }\n",
       "\n",
       "    .dataframe tbody tr th {\n",
       "        vertical-align: top;\n",
       "    }\n",
       "\n",
       "    .dataframe thead th {\n",
       "        text-align: right;\n",
       "    }\n",
       "</style>\n",
       "<table border=\"1\" class=\"dataframe\">\n",
       "  <thead>\n",
       "    <tr style=\"text-align: right;\">\n",
       "      <th></th>\n",
       "      <th>text</th>\n",
       "      <th>target</th>\n",
       "    </tr>\n",
       "  </thead>\n",
       "  <tbody>\n",
       "    <tr>\n",
       "      <th>11760</th>\n",
       "      <td>SEOUL (Reuters) - A spokesman for North Korea ...</td>\n",
       "      <td>1</td>\n",
       "    </tr>\n",
       "    <tr>\n",
       "      <th>22342</th>\n",
       "      <td>Episode #162 of SUNDAY WIRE SHOW resumes this ...</td>\n",
       "      <td>0</td>\n",
       "    </tr>\n",
       "    <tr>\n",
       "      <th>21328</th>\n",
       "      <td>YANGON (Reuters) - Muslim militants in Myanmar...</td>\n",
       "      <td>1</td>\n",
       "    </tr>\n",
       "    <tr>\n",
       "      <th>18598</th>\n",
       "      <td>The classless Democrats are at it again. The o...</td>\n",
       "      <td>0</td>\n",
       "    </tr>\n",
       "    <tr>\n",
       "      <th>20206</th>\n",
       "      <td>PARIS (Reuters) - French Prime Minister Edouar...</td>\n",
       "      <td>1</td>\n",
       "    </tr>\n",
       "  </tbody>\n",
       "</table>\n",
       "</div>"
      ],
      "text/plain": [
       "                                                    text  target\n",
       "11760  SEOUL (Reuters) - A spokesman for North Korea ...       1\n",
       "22342  Episode #162 of SUNDAY WIRE SHOW resumes this ...       0\n",
       "21328  YANGON (Reuters) - Muslim militants in Myanmar...       1\n",
       "18598  The classless Democrats are at it again. The o...       0\n",
       "20206  PARIS (Reuters) - French Prime Minister Edouar...       1"
      ]
     },
     "execution_count": 23,
     "metadata": {},
     "output_type": "execute_result"
    }
   ],
   "source": [
    "datasets.head()"
   ]
  },
  {
   "cell_type": "code",
   "execution_count": 24,
   "id": "60f26cbe-954f-4135-a51b-42a94242e3f9",
   "metadata": {},
   "outputs": [],
   "source": [
    "def cleanTextData(text):\n",
    "    text = text.lower()\n",
    "    text = re.sub('[^a-zA-Z]', \" \", text)\n",
    "    token = text.split()\n",
    "    text = [lemmatizer.lemmatize(word) for word in token]\n",
    "    clean_textData = \" \".join(text)\n",
    "    \n",
    "    return clean_textData"
   ]
  },
  {
   "cell_type": "code",
   "execution_count": 25,
   "id": "5dd698fd-c65a-4f9f-b957-d72a2c29a3c7",
   "metadata": {},
   "outputs": [
    {
     "data": {
      "text/plain": [
       "'hi mejbah ahammad how are you'"
      ]
     },
     "execution_count": 25,
     "metadata": {},
     "output_type": "execute_result"
    }
   ],
   "source": [
    "cleanTextData(\"Hi Mejbah ahammad How#$^%&^*(^$ are you?\")"
   ]
  },
  {
   "cell_type": "code",
   "execution_count": 26,
   "id": "70b6f1df-465f-466a-bad0-b6e9d4adbd62",
   "metadata": {},
   "outputs": [],
   "source": [
    "datasets['text'] = datasets['text'].apply(lambda x: cleanTextData(x))"
   ]
  },
  {
   "cell_type": "code",
   "execution_count": 27,
   "id": "0c46df26-e3a0-423d-a90a-7301341b6df7",
   "metadata": {},
   "outputs": [
    {
     "data": {
      "text/plain": [
       "1    washington reuters transgender people will be ...\n",
       "1    house intelligence committee chairman devin nu...\n",
       "Name: text, dtype: object"
      ]
     },
     "execution_count": 27,
     "metadata": {},
     "output_type": "execute_result"
    }
   ],
   "source": [
    "datasets['text'].loc[1]"
   ]
  },
  {
   "cell_type": "markdown",
   "id": "53e7622b-d9b8-4a37-b660-3f1ab1ccb2b5",
   "metadata": {},
   "source": [
    "<b style=\"color:red;\">Now we are going to apply TF-IDF (Term Frequency - Iverse Document Frequency)</b>"
   ]
  },
  {
   "cell_type": "code",
   "execution_count": 28,
   "id": "293b3f8f-4611-4360-9b4f-ea8f16b91b09",
   "metadata": {},
   "outputs": [],
   "source": [
    "# 1. Uni-gram\n",
    "# 2. Binary-gram\n",
    "# 3. Tri-gram\n",
    "# 4. Multi-gram\n",
    "\n",
    "vectorizer = TfidfVectorizer(max_features=50000, lowercase=False, ngram_range=(1, 2))"
   ]
  },
  {
   "cell_type": "code",
   "execution_count": 29,
   "id": "27f3a629-53e2-45be-afff-f8fd98d81158",
   "metadata": {},
   "outputs": [
    {
     "data": {
      "text/plain": [
       "TfidfVectorizer(lowercase=False, max_features=50000, ngram_range=(1, 2))"
      ]
     },
     "execution_count": 29,
     "metadata": {},
     "output_type": "execute_result"
    }
   ],
   "source": [
    "vectorizer"
   ]
  },
  {
   "cell_type": "code",
   "execution_count": 30,
   "id": "82a73e3b-8dfb-4cfc-91ab-560ef56b1612",
   "metadata": {},
   "outputs": [
    {
     "data": {
      "text/plain": [
       "44898"
      ]
     },
     "execution_count": 30,
     "metadata": {},
     "output_type": "execute_result"
    }
   ],
   "source": [
    "len(datasets)"
   ]
  },
  {
   "cell_type": "code",
   "execution_count": 31,
   "id": "257197f7-de19-4597-b181-22bf7fd13108",
   "metadata": {},
   "outputs": [],
   "source": [
    "# datasets.iloc[:35000, 1]"
   ]
  },
  {
   "cell_type": "code",
   "execution_count": 32,
   "id": "4b662493-fda3-4f65-8519-e431173cd158",
   "metadata": {},
   "outputs": [],
   "source": [
    "xdatasets = datasets.iloc[:35000, 0]\n",
    "ydatasets = datasets.iloc[:35000, 1]"
   ]
  },
  {
   "cell_type": "code",
   "execution_count": 33,
   "id": "401b51cd-f3fd-41df-9098-160320e466a9",
   "metadata": {},
   "outputs": [],
   "source": [
    "x_train, x_test, y_train, y_test = train_test_split(xdatasets,\n",
    "                                                   ydatasets, \n",
    "                                                   random_state=0, \n",
    "                                                   test_size=0.2)"
   ]
  },
  {
   "cell_type": "code",
   "execution_count": 34,
   "id": "df764f42-1a26-47f8-8c69-aec5e352f7a7",
   "metadata": {},
   "outputs": [],
   "source": [
    "vectorizer_train = vectorizer.fit_transform(x_train)"
   ]
  },
  {
   "cell_type": "code",
   "execution_count": 35,
   "id": "94cdc534-8592-4a81-9bf8-ee4640019fda",
   "metadata": {},
   "outputs": [],
   "source": [
    "vectorizer_train = vectorizer_train.toarray()"
   ]
  },
  {
   "cell_type": "code",
   "execution_count": 36,
   "id": "d1d37bf7-3fea-45eb-b634-b1b07e6c7827",
   "metadata": {},
   "outputs": [],
   "source": [
    "vectorizer_test = vectorizer.transform(x_test).toarray()"
   ]
  },
  {
   "cell_type": "code",
   "execution_count": 37,
   "id": "f6dde85b-d06a-4d23-b31a-624dd702024f",
   "metadata": {},
   "outputs": [],
   "source": [
    "trainData = pd.DataFrame(vectorizer_train, columns = vectorizer.get_feature_names())\n",
    "testData = pd.DataFrame(vectorizer_test, columns=vectorizer.get_feature_names())"
   ]
  },
  {
   "cell_type": "code",
   "execution_count": 38,
   "id": "68914fde-f6c5-4a7a-b30f-3ff0f8592418",
   "metadata": {},
   "outputs": [],
   "source": [
    "mlbn = MultinomialNB()"
   ]
  },
  {
   "cell_type": "code",
   "execution_count": 39,
   "id": "c94f904e-131f-4633-9005-fc34d4b8a552",
   "metadata": {},
   "outputs": [
    {
     "data": {
      "text/plain": [
       "MultinomialNB()"
      ]
     },
     "execution_count": 39,
     "metadata": {},
     "output_type": "execute_result"
    }
   ],
   "source": [
    "mlbn.fit(trainData, y_train)"
   ]
  },
  {
   "cell_type": "code",
   "execution_count": 40,
   "id": "d0674245-93ab-4f8c-b969-e2335b2436e2",
   "metadata": {},
   "outputs": [],
   "source": [
    "predictions = mlbn.predict(testData)"
   ]
  },
  {
   "cell_type": "code",
   "execution_count": 41,
   "id": "be5cb652-7b25-4cd9-945b-d213ccfaf45c",
   "metadata": {},
   "outputs": [
    {
     "name": "stdout",
     "output_type": "stream",
     "text": [
      "Predicted Result [1 1 0 ... 1 1 0]\n"
     ]
    }
   ],
   "source": [
    "print(\"Predicted Result {}\".format(predictions))"
   ]
  },
  {
   "cell_type": "code",
   "execution_count": 42,
   "id": "38ad443b-ddbc-46d8-8fd6-c7ccde422bc6",
   "metadata": {},
   "outputs": [
    {
     "name": "stdout",
     "output_type": "stream",
     "text": [
      "Classification Report For the Models is \n",
      "\n",
      "              precision    recall  f1-score   support\n",
      "\n",
      "           0       0.96      0.96      0.96      3683\n",
      "           1       0.95      0.95      0.95      3317\n",
      "\n",
      "    accuracy                           0.95      7000\n",
      "   macro avg       0.95      0.95      0.95      7000\n",
      "weighted avg       0.95      0.95      0.95      7000\n",
      "\n"
     ]
    }
   ],
   "source": [
    "print(\"Classification Report For the Models is \\n\\n{}\".format(classification_report(y_test, predictions)))"
   ]
  },
  {
   "cell_type": "code",
   "execution_count": 43,
   "id": "d06b1c2e-a87e-419a-9d05-822efef21079",
   "metadata": {},
   "outputs": [],
   "source": [
    "predictions_train = mlbn.predict(trainData)"
   ]
  },
  {
   "cell_type": "code",
   "execution_count": 44,
   "id": "f8d11631-db6c-4fbc-acff-a9375ab8a3cf",
   "metadata": {},
   "outputs": [
    {
     "name": "stdout",
     "output_type": "stream",
     "text": [
      "Accuracy is 96.0%\n"
     ]
    }
   ],
   "source": [
    "print(\"Accuracy is {}%\".format(round(accuracy_score(y_train, predictions_train),2)*100))"
   ]
  },
  {
   "cell_type": "code",
   "execution_count": 45,
   "id": "9a61ae0d-4f18-4c8d-8430-9e24940d9ac9",
   "metadata": {},
   "outputs": [
    {
     "name": "stdout",
     "output_type": "stream",
     "text": [
      "Test Accuracy is 95.0%\n"
     ]
    }
   ],
   "source": [
    "print(\"Test Accuracy is {}%\".format(round(accuracy_score(y_test, predictions),2)*100))"
   ]
  }
 ],
 "metadata": {
  "kernelspec": {
   "display_name": "Python 3 (ipykernel)",
   "language": "python",
   "name": "python3"
  },
  "language_info": {
   "codemirror_mode": {
    "name": "ipython",
    "version": 3
   },
   "file_extension": ".py",
   "mimetype": "text/x-python",
   "name": "python",
   "nbconvert_exporter": "python",
   "pygments_lexer": "ipython3",
   "version": "3.7.13"
  }
 },
 "nbformat": 4,
 "nbformat_minor": 5
}
